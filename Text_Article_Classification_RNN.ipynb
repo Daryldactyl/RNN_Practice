{
 "cells": [
  {
   "cell_type": "markdown",
   "id": "5b50b7a8",
   "metadata": {},
   "source": [
    "## **Scenario**\n",
    "\n",
    "Imagine you are working for a news aggregator platform that collects articles from various sources. To improve the user experience, the platform wants to automatically categorize these articles into relevant topics. This categorization will help users discover articles of interest more efficiently."
   ]
  },
  {
   "cell_type": "code",
   "execution_count": 1,
   "id": "bef8167d",
   "metadata": {},
   "outputs": [
    {
     "name": "stderr",
     "output_type": "stream",
     "text": [
      "[nltk_data] Downloading package stopwords to\n",
      "[nltk_data]     /Users/darylroberts/nltk_data...\n",
      "[nltk_data]   Unzipping corpora/stopwords.zip.\n"
     ]
    }
   ],
   "source": [
    "import nltk\n",
    "nltk.download('stopwords')\n",
    "\n",
    "import csv\n",
    "import tensorflow as tf\n",
    "import numpy as np\n",
    "from tensorflow.keras.preprocessing.text import Tokenizer\n",
    "from tensorflow.keras.preprocessing.sequence import pad_sequences\n",
    "from nltk.corpus import stopwords\n",
    "import matplotlib.pyplot as plt"
   ]
  },
  {
   "cell_type": "code",
   "execution_count": 3,
   "id": "320d9384",
   "metadata": {},
   "outputs": [],
   "source": [
    "#Building the Stopwords list\n",
    "STOPWORDS = set(stopwords.words('english'))"
   ]
  },
  {
   "cell_type": "code",
   "execution_count": 4,
   "id": "032377fa",
   "metadata": {},
   "outputs": [],
   "source": [
    "#Defining Hyperparameters\n",
    "vocab_size = 5000\n",
    "embedding_dim = 64\n",
    "max_length = 200\n",
    "padding_type = 'post'\n",
    "trunc_type = 'post'\n",
    "oov_tok = 'OOV'\n",
    "training_portion = 0.8"
   ]
  },
  {
   "cell_type": "code",
   "execution_count": 5,
   "id": "44b21c16",
   "metadata": {},
   "outputs": [],
   "source": [
    "#Process the articles and labels into 2 seperate lists\n",
    "articles = []\n",
    "labels = []\n",
    "with open('bbc-text.csv', 'r') as csvfile:\n",
    "    csv_reader = csv.reader(csvfile)\n",
    "    next(csv_reader)\n",
    "    for row in csv_reader:\n",
    "        label = row[0]\n",
    "        article = ' '.join([word.lower() for word in row[1].split() if word.lower() not in STOPWORDS])\n",
    "        labels.append(label)\n",
    "        articles.append(article)"
   ]
  },
  {
   "cell_type": "code",
   "execution_count": 8,
   "id": "fd3a9877",
   "metadata": {},
   "outputs": [
    {
     "name": "stdout",
     "output_type": "stream",
     "text": [
      "2225\n",
      "2225\n"
     ]
    }
   ],
   "source": [
    "print(len(articles))\n",
    "print(len(labels))"
   ]
  },
  {
   "cell_type": "code",
   "execution_count": 7,
   "id": "40608895",
   "metadata": {},
   "outputs": [
    {
     "data": {
      "text/html": [
       "<div>\n",
       "<style scoped>\n",
       "    .dataframe tbody tr th:only-of-type {\n",
       "        vertical-align: middle;\n",
       "    }\n",
       "\n",
       "    .dataframe tbody tr th {\n",
       "        vertical-align: top;\n",
       "    }\n",
       "\n",
       "    .dataframe thead th {\n",
       "        text-align: right;\n",
       "    }\n",
       "</style>\n",
       "<table border=\"1\" class=\"dataframe\">\n",
       "  <thead>\n",
       "    <tr style=\"text-align: right;\">\n",
       "      <th></th>\n",
       "      <th>category</th>\n",
       "      <th>text</th>\n",
       "    </tr>\n",
       "  </thead>\n",
       "  <tbody>\n",
       "    <tr>\n",
       "      <th>0</th>\n",
       "      <td>tech</td>\n",
       "      <td>tv future in the hands of viewers with home th...</td>\n",
       "    </tr>\n",
       "    <tr>\n",
       "      <th>1</th>\n",
       "      <td>business</td>\n",
       "      <td>worldcom boss  left books alone  former worldc...</td>\n",
       "    </tr>\n",
       "    <tr>\n",
       "      <th>2</th>\n",
       "      <td>sport</td>\n",
       "      <td>tigers wary of farrell  gamble  leicester say ...</td>\n",
       "    </tr>\n",
       "    <tr>\n",
       "      <th>3</th>\n",
       "      <td>sport</td>\n",
       "      <td>yeading face newcastle in fa cup premiership s...</td>\n",
       "    </tr>\n",
       "    <tr>\n",
       "      <th>4</th>\n",
       "      <td>entertainment</td>\n",
       "      <td>ocean s twelve raids box office ocean s twelve...</td>\n",
       "    </tr>\n",
       "  </tbody>\n",
       "</table>\n",
       "</div>"
      ],
      "text/plain": [
       "        category                                               text\n",
       "0           tech  tv future in the hands of viewers with home th...\n",
       "1       business  worldcom boss  left books alone  former worldc...\n",
       "2          sport  tigers wary of farrell  gamble  leicester say ...\n",
       "3          sport  yeading face newcastle in fa cup premiership s...\n",
       "4  entertainment  ocean s twelve raids box office ocean s twelve..."
      ]
     },
     "execution_count": 7,
     "metadata": {},
     "output_type": "execute_result"
    }
   ],
   "source": [
    "#Show what the csv looks like:\n",
    "import pandas as pd\n",
    "df = pd.read_csv('bbc-text.csv')\n",
    "df.head()"
   ]
  },
  {
   "cell_type": "code",
   "execution_count": 9,
   "id": "3bddd41a",
   "metadata": {},
   "outputs": [
    {
     "name": "stdout",
     "output_type": "stream",
     "text": [
      "1780\n"
     ]
    }
   ],
   "source": [
    "#Split data into training and validation\n",
    "train_size = int(len(articles) * training_portion)\n",
    "train_articles = articles[:train_size]\n",
    "train_labels = labels[:train_size]\n",
    "validation_articles = articles[train_size:]\n",
    "validation_labels = labels[train_size:]\n",
    "print(train_size)"
   ]
  },
  {
   "cell_type": "code",
   "execution_count": 10,
   "id": "fb1e6022",
   "metadata": {},
   "outputs": [
    {
     "name": "stdout",
     "output_type": "stream",
     "text": [
      "['sport', 'business', 'tech', 'politics', 'entertainment']\n"
     ]
    }
   ],
   "source": [
    "#Show all label options\n",
    "unique = list(set(train_labels))\n",
    "print(unique)"
   ]
  },
  {
   "cell_type": "code",
   "execution_count": 11,
   "id": "915d8c51",
   "metadata": {},
   "outputs": [
    {
     "name": "stdout",
     "output_type": "stream",
     "text": [
      "Train articles: 1780\n",
      "Train labels: 1780\n",
      "Validation articles: 445\n",
      "Validation labels: 445\n"
     ]
    }
   ],
   "source": [
    "#Verify the length of each dataset\n",
    "print(f'Train articles: {len(train_articles)}')\n",
    "print(f'Train labels: {len(train_labels)}')\n",
    "print(f'Validation articles: {len(validation_articles)}')\n",
    "print(f'Validation labels: {len(validation_labels)}')"
   ]
  },
  {
   "cell_type": "code",
   "execution_count": 12,
   "id": "65af320d",
   "metadata": {},
   "outputs": [
    {
     "name": "stdout",
     "output_type": "stream",
     "text": [
      "OOV: 1\n",
      "said: 2\n",
      "mr: 3\n",
      "would: 4\n",
      "year: 5\n",
      "also: 6\n",
      "people: 7\n",
      "new: 8\n",
      "us: 9\n",
      "one: 10\n"
     ]
    }
   ],
   "source": [
    "#Initialize the tokenizer and Assign a word index\n",
    "#(Show the first 10 items of the word index to verify it was done correctly)\n",
    "tokenizer = Tokenizer(num_words=vocab_size, oov_token=oov_tok)\n",
    "tokenizer.fit_on_texts(train_articles)\n",
    "word_index = tokenizer.word_index\n",
    "for word, index in list(word_index.items())[:10]:\n",
    "    print(f'{word}: {index}')"
   ]
  },
  {
   "cell_type": "code",
   "execution_count": 13,
   "id": "fba3b8a2",
   "metadata": {},
   "outputs": [],
   "source": [
    "#Turn the articles into sequences for the RNN using the Tokenizer\n",
    "train_sequences = tokenizer.texts_to_sequences(train_articles)\n",
    "validation_sequences = tokenizer.texts_to_sequences(validation_articles)"
   ]
  },
  {
   "cell_type": "code",
   "execution_count": 14,
   "id": "1470b4d4",
   "metadata": {},
   "outputs": [],
   "source": [
    "#Pad the sequences (this ensures all article sequences are the same size. \n",
    "#Add 0's to the end of a sequence that doesnt reach the max length of 200\n",
    "train_padded = pad_sequences(train_sequences, maxlen=max_length, padding=padding_type, truncating=trunc_type)\n",
    "validation_padded = pad_sequences(validation_sequences, maxlen=max_length, padding=padding_type, truncating=trunc_type)"
   ]
  },
  {
   "cell_type": "code",
   "execution_count": 15,
   "id": "9d272d50",
   "metadata": {},
   "outputs": [
    {
     "name": "stdout",
     "output_type": "stream",
     "text": [
      "(445, 200)\n",
      "(1780, 200)\n"
     ]
    }
   ],
   "source": [
    "print(validation_padded.shape)\n",
    "print(train_padded.shape)"
   ]
  },
  {
   "cell_type": "code",
   "execution_count": 17,
   "id": "426cb95a",
   "metadata": {},
   "outputs": [],
   "source": [
    "#Fit tokenizer to labels for computing purposes\n",
    "label_tokenizer = Tokenizer()\n",
    "label_tokenizer.fit_on_texts(labels)\n",
    "training_label_seq = np.array(label_tokenizer.texts_to_sequences(train_labels))\n",
    "validation_label_seq = np.array(label_tokenizer.texts_to_sequences(validation_labels))"
   ]
  },
  {
   "cell_type": "code",
   "execution_count": 18,
   "id": "585116ba",
   "metadata": {},
   "outputs": [
    {
     "name": "stdout",
     "output_type": "stream",
     "text": [
      "Model: \"sequential_1\"\n",
      "_________________________________________________________________\n",
      " Layer (type)                Output Shape              Param #   \n",
      "=================================================================\n",
      " embedding_1 (Embedding)     (None, 200, 64)           320000    \n",
      "                                                                 \n",
      " bidirectional_1 (Bidirecti  (None, 128)               66048     \n",
      " onal)                                                           \n",
      "                                                                 \n",
      " dense_2 (Dense)             (None, 64)                8256      \n",
      "                                                                 \n",
      " dense_3 (Dense)             (None, 6)                 390       \n",
      "                                                                 \n",
      "=================================================================\n",
      "Total params: 394694 (1.51 MB)\n",
      "Trainable params: 394694 (1.51 MB)\n",
      "Non-trainable params: 0 (0.00 Byte)\n",
      "_________________________________________________________________\n"
     ]
    }
   ],
   "source": [
    "#Create the model architecture (key is the embedding and bidirectional LSTM layers)\n",
    "model = tf.keras.Sequential()\n",
    "model.add(tf.keras.layers.Embedding(input_dim=vocab_size, output_dim=embedding_dim, input_length=max_length))\n",
    "model.add(tf.keras.layers.Bidirectional(tf.keras.layers.LSTM(embedding_dim)))\n",
    "model.add(tf.keras.layers.Dense(embedding_dim, activation='relu'))\n",
    "model.add(tf.keras.layers.Dense(6, activation='softmax'))\n",
    "\n",
    "model.summary()"
   ]
  },
  {
   "cell_type": "code",
   "execution_count": 19,
   "id": "f2e56242",
   "metadata": {},
   "outputs": [],
   "source": [
    "model.compile(loss='sparse_categorical_crossentropy', optimizer='adam', metrics=['accuracy'])"
   ]
  },
  {
   "cell_type": "code",
   "execution_count": 20,
   "id": "25a09885",
   "metadata": {},
   "outputs": [
    {
     "name": "stdout",
     "output_type": "stream",
     "text": [
      "Epoch 1/10\n",
      "56/56 - 4s - loss: 1.5417 - accuracy: 0.3034 - val_loss: 1.3685 - val_accuracy: 0.3236 - 4s/epoch - 70ms/step\n",
      "Epoch 2/10\n",
      "56/56 - 3s - loss: 0.9907 - accuracy: 0.6376 - val_loss: 0.6520 - val_accuracy: 0.8180 - 3s/epoch - 48ms/step\n",
      "Epoch 3/10\n",
      "56/56 - 3s - loss: 0.6099 - accuracy: 0.7961 - val_loss: 0.5441 - val_accuracy: 0.7596 - 3s/epoch - 49ms/step\n",
      "Epoch 4/10\n",
      "56/56 - 3s - loss: 0.2632 - accuracy: 0.9096 - val_loss: 0.5945 - val_accuracy: 0.8315 - 3s/epoch - 49ms/step\n",
      "Epoch 5/10\n",
      "56/56 - 3s - loss: 0.1071 - accuracy: 0.9646 - val_loss: 0.3634 - val_accuracy: 0.8899 - 3s/epoch - 49ms/step\n",
      "Epoch 6/10\n",
      "56/56 - 3s - loss: 0.0548 - accuracy: 0.9860 - val_loss: 0.4960 - val_accuracy: 0.8652 - 3s/epoch - 49ms/step\n",
      "Epoch 7/10\n",
      "56/56 - 3s - loss: 0.0564 - accuracy: 0.9904 - val_loss: 0.2840 - val_accuracy: 0.9258 - 3s/epoch - 49ms/step\n",
      "Epoch 8/10\n",
      "56/56 - 3s - loss: 0.0088 - accuracy: 0.9989 - val_loss: 0.3077 - val_accuracy: 0.9191 - 3s/epoch - 49ms/step\n",
      "Epoch 9/10\n",
      "56/56 - 3s - loss: 0.0037 - accuracy: 1.0000 - val_loss: 0.2878 - val_accuracy: 0.9303 - 3s/epoch - 49ms/step\n",
      "Epoch 10/10\n",
      "56/56 - 3s - loss: 0.0023 - accuracy: 1.0000 - val_loss: 0.2757 - val_accuracy: 0.9326 - 3s/epoch - 49ms/step\n"
     ]
    }
   ],
   "source": [
    "#Train the model!\n",
    "history = model.fit(train_padded, training_label_seq, epochs=10, validation_data=(validation_padded, validation_label_seq), verbose=2)"
   ]
  },
  {
   "cell_type": "code",
   "execution_count": 22,
   "id": "82986282",
   "metadata": {},
   "outputs": [
    {
     "data": {
      "image/png": "[encoded data removed]",
      "text/plain": [
       "<Figure size 800x600 with 1 Axes>"
      ]
     },
     "metadata": {},
     "output_type": "display_data"
    },
    {
     "data": {
      "image/png": "[encoded data removed]",
      "text/plain": [
       "<Figure size 800x600 with 1 Axes>"
      ]
     },
     "metadata": {},
     "output_type": "display_data"
    }
   ],
   "source": [
    "#Plot the graphs showing loss and accuracy over time\n",
    "def plot_graphs(history, string):\n",
    "    plt.figure(figsize=(8,6))\n",
    "    plt.plot(history.history[string])\n",
    "    plt.plot(history.history[f'val_{string}'])\n",
    "    plt.xlabel('Epochs')\n",
    "    plt.ylabel(string)\n",
    "    plt.legend([f'training_{string}', f'validation_{string}'])\n",
    "    plt.show()\n",
    "    \n",
    "plot_graphs(history, 'accuracy')\n",
    "\n",
    "plot_graphs(history, 'loss')"
   ]
  },
  {
   "cell_type": "code",
   "execution_count": null,
   "id": "12095244",
   "metadata": {},
   "outputs": [],
   "source": []
  }
 ],
 "metadata": {
  "kernelspec": {
   "display_name": "Python 3 (ipykernel)",
   "language": "python",
   "name": "python3"
  },
  "language_info": {
   "codemirror_mode": {
    "name": "ipython",
    "version": 3
   },
   "file_extension": ".py",
   "mimetype": "text/x-python",
   "name": "python",
   "nbconvert_exporter": "python",
   "pygments_lexer": "ipython3",
   "version": "3.11.8"
  }
 },
 "nbformat": 4,
 "nbformat_minor": 5
}
